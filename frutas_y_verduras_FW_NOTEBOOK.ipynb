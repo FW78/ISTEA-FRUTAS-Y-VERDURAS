{
 "cells": [
  {
   "cell_type": "markdown",
   "metadata": {},
   "source": [
    "# Frutas y Verduras\n",
    "\n",
    "## Premisas\n",
    "\n",
    "### Tomando como referencia la siguiente información proporcionada por la IA Copilot:"
   ]
  },
  {
   "cell_type": "markdown",
   "metadata": {},
   "source": [
    "Las necesidades calóricas y de vitaminas y minerales pueden variar dependiendo de varios factores como la edad, el nivel de actividad física, el estado de salud, entre otros. Sin embargo, aquí te proporciono una guía general basada en la información que encontré:\n",
    "\n",
    "Necesidades calóricas:\n",
    "\n",
    "Para un hombre promedio en Argentina, las necesidades calóricas pueden variar. Un hombre poco activo de 40 años y 90 kilos necesita unas 2.700 calorías por día para mantener su peso y sus funciones corporales básicas. Sin embargo, estas necesidades pueden disminuir con la edad.\n",
    "Para una mujer promedio en Argentina, las necesidades calóricas pueden ser alrededor de 1.500 a 2.000 calorías al día. Al igual que los hombres, estas necesidades pueden variar dependiendo de la edad y el nivel de actividad física."
   ]
  },
  {
   "cell_type": "code",
   "execution_count": 95,
   "metadata": {},
   "outputs": [],
   "source": [
    "import json\n",
    "\n",
    "# Creo un archivo Json desde donde definir los parametros de nutrientes\n",
    "nutrientes_diarios = {\n",
    "    \"calorias\": {\"f\": 2000, \"m\": 2500} # Separo entre Femenino y Masculino con otro diccionario\n",
    "}\n",
    "\n",
    "with open('nutrientes.json', 'w') as archivo:\n",
    "    json.dump(nutrientes_diarios, archivo)"
   ]
  },
  {
   "cell_type": "markdown",
   "metadata": {},
   "source": [
    "Necesidades de vitaminas y minerales: \n",
    "\n",
    "Las necesidades diarias recomendadas de vitaminas y minerales para un adulto promedio pueden ser las siguientes:\n",
    "\n",
    "* Vitamina B12: 2.4 mcg al día.\n",
    "* Vitamina C: 75 a 90 mg al día.\n",
    "* Calcio: 1200 a 1500 mg al día.\n",
    "* Magnesio: 320 a 420 mg al día para los hombres y 270 a 320 mg al día para las mujeres.\n",
    "* Zinc: 11 mg al día para los hombres y 8 mg al día para las mujeres.\n",
    "\n",
    "Es importante mencionar que estas son solo estimaciones y las necesidades individuales pueden variar. Te recomendaría que consultes a un profesional de la salud o a un dietista registrado para obtener recomendaciones personalizadas basadas en tus necesidades específicas."
   ]
  },
  {
   "cell_type": "code",
   "execution_count": 96,
   "metadata": {},
   "outputs": [],
   "source": [
    "# Abro el archivo Json\n",
    "with open('nutrientes.json', 'r') as archivo:\n",
    "    nutrientes_diarios = json.load(archivo)\n",
    "\n",
    "# Agrego nuevos valores al diccionario\n",
    "# En mg por dia\n",
    "nutrientes_diarios['vitamina b12'] = {\"f\": 0.0024, \"m\": 0.0024}\n",
    "nutrientes_diarios['vitamina c'] = {\"f\": 90, \"m\": 90}\n",
    "nutrientes_diarios['calcio'] = {\"f\": 1500, \"m\": 1500}\n",
    "nutrientes_diarios['magnesio'] = {\"f\": 320, \"m\": 420}\n",
    "nutrientes_diarios['zinc'] = {\"f\": 8, \"m\": 11}\n",
    "\n",
    "# Guardar el diccionario en el archivo Json\n",
    "with open('nutrientes.json', 'w') as archivo:\n",
    "    json.dump(nutrientes_diarios, archivo)"
   ]
  },
  {
   "cell_type": "markdown",
   "metadata": {},
   "source": [
    "-----------------------------------------------------------------------------------------------------------------------------------------------------------\n",
    "### A fines de esta práctica las necesidades nutricionales básicas se darán por satisfechas con haber incorporado en el menú diario todas las vitaminas y minerales mas alla de su cantidad y/o concentración."
   ]
  },
  {
   "cell_type": "markdown",
   "metadata": {},
   "source": [
    "Teniendo entonces esto en cuenta y tomando las distintas variedades de vitaminas y minerales posibles de cuanto se desprende de la propia BBDD con la que estamos trabajando:"
   ]
  },
  {
   "cell_type": "code",
   "execution_count": 97,
   "metadata": {},
   "outputs": [],
   "source": [
    "import sqlite3"
   ]
  },
  {
   "cell_type": "code",
   "execution_count": 99,
   "metadata": {},
   "outputs": [],
   "source": [
    "# Creo una funcion para conectar a BBDD \n",
    "\n",
    "def conectar_db(nombre):\n",
    "    global connection\n",
    "    connection = sqlite3.connect(f\"{nombre}.db\")\n",
    "    return connection.cursor()"
   ]
  },
  {
   "cell_type": "code",
   "execution_count": 106,
   "metadata": {},
   "outputs": [
    {
     "name": "stdout",
     "output_type": "stream",
     "text": [
      "['A', 'B1', 'B2', 'B3', 'B5', 'B6', 'B9', 'BETACAROTENO', 'C', 'D', 'DELCOMPLEJOB', 'E', 'K']\n"
     ]
    }
   ],
   "source": [
    "# Extraigo las posibles vitaminas del conjunto de datos\n",
    "\n",
    "nombre_db = \"frutas_y_verduras_FW\"\n",
    "cursor = conectar_db(nombre_db)\n",
    "\n",
    "query = \"SELECT vitaminas FROM frutas_y_verduras\"\n",
    "cursor.execute(query)\n",
    "valor = \"\"\n",
    "for fila in cursor:\n",
    "    valor += str(fila[0]+\",\")\n",
    "valores = sorted(list(valor.replace(\" \",\"\").split(\",\")))\n",
    "vitaminas = []\n",
    "for val in valores:\n",
    "    if val not in vitaminas:\n",
    "        vitaminas.append(val)\n",
    "vitaminas.pop(0)\n",
    "print(vitaminas)\n"
   ]
  },
  {
   "cell_type": "code",
   "execution_count": 110,
   "metadata": {},
   "outputs": [
    {
     "name": "stdout",
     "output_type": "stream",
     "text": [
      "['AZUFRE', 'CALCIO', 'CLORO', 'COBRE', 'FLÚOR', 'FÓSFORO', 'HIERRO', 'MAGNESIO', 'MANGANESO', 'POTASIO', 'SELENIO', 'SILICIO', 'SODIO', 'ZINC']\n"
     ]
    }
   ],
   "source": [
    "# Extraigo los posibles minerales del conjunto de datos\n",
    "\n",
    "# nombre_db = \"frutas_y_verduras_FW\"\n",
    "# cursor = conectar_db(nombre_db)\n",
    "\n",
    "query = \"SELECT minerales FROM frutas_y_verduras\"\n",
    "cursor.execute(query)\n",
    "valor = \"\"\n",
    "for fila in cursor:\n",
    "    valor += str(fila[0]+\",\")\n",
    "valores = sorted(list(valor.replace(\" \",\"\").split(\",\")))\n",
    "minerales = []\n",
    "for val in valores:\n",
    "    if val not in minerales:\n",
    "        minerales.append(val)\n",
    "minerales.pop(0)\n",
    "errores = ('Z0', 'Z1', 'Z2')\n",
    "for error in errores:\n",
    "    minerales.remove(error)\n",
    "print(minerales)"
   ]
  }
 ],
 "metadata": {
  "kernelspec": {
   "display_name": "Python 3",
   "language": "python",
   "name": "python3"
  },
  "language_info": {
   "codemirror_mode": {
    "name": "ipython",
    "version": 3
   },
   "file_extension": ".py",
   "mimetype": "text/x-python",
   "name": "python",
   "nbconvert_exporter": "python",
   "pygments_lexer": "ipython3",
   "version": "3.12.2"
  }
 },
 "nbformat": 4,
 "nbformat_minor": 2
}
